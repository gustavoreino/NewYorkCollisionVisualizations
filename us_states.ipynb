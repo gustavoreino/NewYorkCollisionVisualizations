{
 "cells": [
  {
   "cell_type": "code",
   "execution_count": null,
   "id": "dd59b96f",
   "metadata": {},
   "outputs": [
    {
     "name": "stderr",
     "output_type": "stream",
     "text": [
      "/tmp/ipykernel_3797/1279918629.py:3: DtypeWarning:\n",
      "\n",
      "Columns (3) have mixed types. Specify dtype option on import or set low_memory=False.\n",
      "\n",
      "/tmp/ipykernel_3797/1279918629.py:4: DtypeWarning:\n",
      "\n",
      "Columns (8) have mixed types. Specify dtype option on import or set low_memory=False.\n",
      "\n"
     ]
    },
    {
     "name": "stdout",
     "output_type": "stream",
     "text": [
      "Number of removed entries: 832434\n"
     ]
    }
   ],
   "source": [
    "import pandas as pd\n",
    "\n",
    "df_main = pd.read_csv(\"Motor_Vehicle_Collisions_-_Crashes_20250506.csv\")\n",
    "df_vehicles = pd.read_csv(\"Motor_Vehicle_Collisions_-_Vehicles_20250506.csv\")\n",
    "\n",
    "df_main = df_main[['COLLISION_ID', 'BOROUGH', 'LATITUDE', 'LONGITUDE']]\n",
    "df_vehicles = df_vehicles[['COLLISION_ID', 'STATE_REGISTRATION']]\n",
    "\n",
    "vehicles_grouped = (\n",
    "    df_vehicles\n",
    "    .groupby('COLLISION_ID')['STATE_REGISTRATION']\n",
    "    .apply(lambda x: x.head(5).tolist())\n",
    "    .reset_index()\n",
    ")\n",
    "\n",
    "# Expand the list into separate VEHICLE1..VEHICLE5 columns\n",
    "vehicles_expanded = pd.DataFrame(vehicles_grouped['STATE_REGISTRATION'].tolist(),\n",
    "                                 columns=[f'VEHICLE{i}' for i in range(1, 6)])\n",
    "vehicles_expanded['COLLISION_ID'] = vehicles_grouped['COLLISION_ID']\n",
    "\n",
    "# Merge with the main dataframe on COLLISION_ID\n",
    "df_merged = pd.merge(df_main, vehicles_expanded, on='COLLISION_ID', how='left')\n",
    "\n",
    "# Remove data without coordinates\n",
    "before_drop = len(df_merged)\n",
    "df_merged = df_merged.dropna(subset=['BOROUGH', 'LATITUDE', 'LONGITUDE', 'VEHICLE1'])\n",
    "after_drop = len(df_merged)\n",
    "print(f\"Number of removed entries: {before_drop - after_drop}\")\n",
    "\n",
    "\n",
    "def infer_borough(lat, lon):\n",
    "    if lat is None or lon is None:\n",
    "        return None\n",
    "    # Approximate bounding boxes for each borough\n",
    "    if 40.49 <= lat <= 40.92 and -74.26 <= lon <= -73.7:\n",
    "        if lat > 40.8:\n",
    "            if lon > -73.85:\n",
    "                return 'QUEENS'\n",
    "            else:\n",
    "                return 'BRONX'\n",
    "        else:\n",
    "            if lon > -73.95:\n",
    "                return 'QUEENS'\n",
    "            elif lon > -74.0:\n",
    "                return 'BROOKLYN'\n",
    "            elif lon > -74.15:\n",
    "                return 'STATEN ISLAND'\n",
    "            else:\n",
    "                return 'MANHATTAN'\n",
    "    return None\n",
    "\n",
    "df_merged['BOROUGH'] = df_merged.apply(\n",
    "    lambda row: infer_borough(row['LATITUDE'], row['LONGITUDE']) if pd.isna(row['BOROUGH']) else row['BOROUGH'],\n",
    "    axis=1\n",
    ")\n",
    "\n",
    "vehicle_cols = ['VEHICLE1', 'VEHICLE2', 'VEHICLE3', 'VEHICLE4', 'VEHICLE5']\n",
    "df_long = df_merged.melt(\n",
    "    id_vars=['BOROUGH'],\n",
    "    value_vars=vehicle_cols,\n",
    "    value_name='STATE'\n",
    ")\n",
    "\n",
    "# Step 2: Clean the STATE column\n",
    "df_long = df_long.dropna(subset=['STATE'])\n",
    "df_long['STATE'] = df_long['STATE'].str.upper().str.strip()\n",
    "\n",
    "# Step 3: Group by BOROUGH and STATE to count occurrences\n",
    "df_quantity = (\n",
    "    df_long.groupby(['BOROUGH', 'STATE'])\n",
    "    .size()\n",
    "    .reset_index(name='QUANTITY')\n",
    ")\n",
    "\n",
    "valid_us_states = {\n",
    "    'AL', 'AK', 'AZ', 'AR', 'CA', 'CO', 'CT', 'DE', 'FL', 'GA',\n",
    "    'HI', 'ID', 'IL', 'IN', 'IA', 'KS', 'KY', 'LA', 'ME', 'MD',\n",
    "    'MA', 'MI', 'MN', 'MS', 'MO', 'MT', 'NE', 'NV', 'NH', 'NJ',\n",
    "    'NM', 'NC', 'ND', 'OH', 'OK', 'OR', 'PA', 'RI', 'SC',\n",
    "    'SD', 'TN', 'TX', 'UT', 'VT', 'VA', 'WA', 'WV', 'WI', 'WY'\n",
    "}\n",
    "\n",
    "df_quantity = df_quantity[df_quantity['STATE'].isin(valid_us_states)]"
   ]
  },
  {
   "cell_type": "code",
   "execution_count": null,
   "id": "0b886b54",
   "metadata": {},
   "outputs": [
    {
     "name": "stdout",
     "output_type": "stream",
     "text": [
      "           BOROUGH STATE  QUANTITY\n",
      "1            BRONX    AK        11\n",
      "2            BRONX    AL       289\n",
      "3            BRONX    AR        73\n",
      "4            BRONX    AZ      1182\n",
      "6            BRONX    CA       420\n",
      "..             ...   ...       ...\n",
      "353  STATEN ISLAND    VT        25\n",
      "354  STATEN ISLAND    WA        23\n",
      "355  STATEN ISLAND    WI        16\n",
      "356  STATEN ISLAND    WV         9\n",
      "357  STATEN ISLAND    WY         4\n",
      "\n",
      "[244 rows x 3 columns]\n"
     ]
    }
   ],
   "source": [
    "import plotly.express as px\n",
    "\n",
    "print(df_quantity)\n",
    "\n",
    "# Turn the data into a choropleth visualization \n",
    "fig = px.choropleth(\n",
    "    df_quantity,\n",
    "    locations=\"STATE\",            # This should be US state abbreviations\n",
    "    locationmode=\"USA-states\",    # Map type\n",
    "    color=\"QUANTITY\",        # This should be the value\n",
    "    hover_name=\"STATE\",           # Hover shows state name\n",
    "    animation_frame=\"BOROUGH\",    # Animate by NYC borough\n",
    "    scope=\"usa\",                  # USA only\n",
    "    color_continuous_scale=\"Reds\",\n",
    ")\n",
    "\n",
    "fig.write_html(\"us_states.html\")"
   ]
  }
 ],
 "metadata": {
  "kernelspec": {
   "display_name": "Python 3",
   "language": "python",
   "name": "python3"
  },
  "language_info": {
   "codemirror_mode": {
    "name": "ipython",
    "version": 3
   },
   "file_extension": ".py",
   "mimetype": "text/x-python",
   "name": "python",
   "nbconvert_exporter": "python",
   "pygments_lexer": "ipython3",
   "version": "3.12.2"
  }
 },
 "nbformat": 4,
 "nbformat_minor": 5
}
